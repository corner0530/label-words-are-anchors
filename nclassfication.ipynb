{
 "cells": [
  {
   "cell_type": "code",
   "execution_count": null,
   "metadata": {
    "collapsed": true,
    "pycharm": {
     "name": "#%%\n"
    }
   },
   "outputs": [],
   "source": [
    "from icl.util_classes.arg_classes import NClassificationArgs\n",
    "from sklearn.metrics import accuracy_score\n",
    "from icl.utils.load_huggingface_dataset import load_huggingface_dataset_train_and_test\n",
    "import numpy as np"
   ]
  },
  {
   "cell_type": "code",
   "execution_count": null,
   "outputs": [],
   "source": [
    "def get_acc(y,labels):\n",
    "    scores = y.predictions[0]\n",
    "    acc = accuracy_score(labels, np.argmax(scores, axis=1))\n",
    "    return acc"
   ],
   "metadata": {
    "collapsed": false,
    "pycharm": {
     "name": "#%%\n"
    }
   }
  },
  {
   "cell_type": "code",
   "execution_count": null,
   "outputs": [],
   "source": [
    "all_results = []\n",
    "for task_name in ['sst2','trec','agnews','emo']:\n",
    "    dataset = load_huggingface_dataset_train_and_test(task_name)\n",
    "    task_results = []\n",
    "    result_ls = []\n",
    "    for seed in [42,43,44,45,46]:\n",
    "        test_sample = dataset['test'].shuffle(seed=seed).select(range(min(1000,len(dataset['test']))))\n",
    "        labels = np.array(test_sample['label'])\n",
    "        if task_name == 'agnews':\n",
    "            args = NClassificationArgs(task_name=task_name,demonstration_shot=3,seeds=[seed])\n",
    "        else:\n",
    "            args = NClassificationArgs(task_name=task_name,demonstration_shot=5,seeds=[seed])\n",
    "        results = args.load_result()[0][0]\n",
    "        y, = results\n",
    "\n",
    "        acc_1 = get_acc(y,labels)\n",
    "        result_ls.append([acc_1])\n",
    "    task_results.append(result_ls)\n",
    "    all_results.append(task_results)"
   ],
   "metadata": {
    "collapsed": false,
    "pycharm": {
     "name": "#%%\n"
    }
   }
  }
 ],
 "metadata": {
  "kernelspec": {
   "display_name": "Python 3",
   "language": "python",
   "name": "python3"
  },
  "language_info": {
   "codemirror_mode": {
    "name": "ipython",
    "version": 2
   },
   "file_extension": ".py",
   "mimetype": "text/x-python",
   "name": "python",
   "nbconvert_exporter": "python",
   "pygments_lexer": "ipython2",
   "version": "2.7.6"
  }
 },
 "nbformat": 4,
 "nbformat_minor": 0
}