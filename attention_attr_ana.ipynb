{
  "cells": [
    {
      "cell_type": "code",
      "execution_count": 1,
      "metadata": {
        "pycharm": {
          "name": "#%%\n"
        }
      },
      "outputs": [],
      "source": [
        "import numpy as np\n",
        "from icl.util_classes.arg_classes import AttrArgs\n",
        "import matplotlib.pyplot as plt\n",
        "\n",
        "\n",
        "def plot_ndarray(data, args):\n",
        "    names = [r\"$S_{wp}$\", r\"$S_{pq}$\", r\"$S_{ww}$\"]\n",
        "    type_num = len(data)\n",
        "\n",
        "    fig, ax = plt.subplots()\n",
        "\n",
        "    for i in range(type_num):\n",
        "        ax.plot(data[i], label=names[i])\n",
        "\n",
        "    ax.legend()\n",
        "    ax.set_ylabel(\"S\")\n",
        "    ax.set_xlabel(\"Layer\")\n",
        "\n",
        "    fig.savefig(f\"attn_attr_{args.task_name}_{args.demonstration_shot}.pdf\")\n",
        "    plt.show()"
      ]
    },
    {
      "cell_type": "code",
      "execution_count": null,
      "metadata": {
        "pycharm": {
          "name": "#%%\n"
        }
      },
      "outputs": [],
      "source": [
        "task = \"agnews\"\n",
        "demonstration_shot = 2\n",
        "proportions_list = []\n",
        "for seed in [42, 43, 44, 45, 46]:\n",
        "    ana_args = AttrArgs(\n",
        "        task_name=task,\n",
        "        sample_size=1000,\n",
        "        seeds=[seed],\n",
        "        demonstration_shot=demonstration_shot,\n",
        "    )\n",
        "    results = ana_args.load_result()\n",
        "    proportions = results.mean(axis=0)\n",
        "    proportions = proportions / proportions.sum(axis=0, keepdims=True)\n",
        "    proportions_list.append(proportions[np.newaxis, ...])\n",
        "proportions = np.concatenate(proportions_list, axis=0)\n",
        "proportions = proportions.mean(0)\n",
        "\n",
        "import pickle\n",
        "\n",
        "with open(f\"attn_attr_{task}_{demonstration_shot}.pkl\", \"wb\") as f:\n",
        "    pickle.dump(proportions, f)"
      ]
    },
    {
      "cell_type": "code",
      "execution_count": null,
      "metadata": {
        "collapsed": false,
        "pycharm": {
          "name": "#%%\n"
        }
      },
      "outputs": [],
      "source": [
        "plot_ndarray(proportions, ana_args)"
      ]
    }
  ],
  "metadata": {
    "kernelspec": {
      "display_name": "Python 3.10.10 ('wm')",
      "language": "python",
      "name": "python3"
    },
    "language_info": {
      "codemirror_mode": {
        "name": "ipython",
        "version": 3
      },
      "file_extension": ".py",
      "mimetype": "text/x-python",
      "name": "python",
      "nbconvert_exporter": "python",
      "pygments_lexer": "ipython3",
      "version": "3.10.14"
    },
    "orig_nbformat": 4,
    "vscode": {
      "interpreter": {
        "hash": "69f52fabb15766d39c6bf90ba53c555c905cb082f5a671ecb5c4487727b3f015"
      }
    }
  },
  "nbformat": 4,
  "nbformat_minor": 2
}
